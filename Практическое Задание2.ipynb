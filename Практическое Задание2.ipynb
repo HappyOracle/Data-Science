{
  "nbformat": 4,
  "nbformat_minor": 0,
  "metadata": {
    "colab": {
      "provenance": []
    },
    "kernelspec": {
      "name": "python3",
      "display_name": "Python 3"
    },
    "language_info": {
      "name": "python"
    }
  },
  "cells": [
    {
      "cell_type": "code",
      "source": [
        "import re\n",
        "\n",
        "d = dict()\n",
        "text = open('input.txt', 'r', encoding='utf8')\n",
        "for line in text:\n",
        "  line = re.sub(r'[.,\"\\'-?:!;]', '', line)\n",
        "  line = line.strip()\n",
        "  line = line.lower()\n",
        "  words = line.split(\"\")\n",
        "  for word in words:\n",
        "    if word in d:\n",
        "      d[word] +=1\n",
        "    else:\n",
        "      d[word] = 1\n",
        "print(d)\n"
      ],
      "metadata": {
        "id": "aPhodF2P1vcW"
      },
      "execution_count": null,
      "outputs": []
    },
    {
      "cell_type": "markdown",
      "source": [
        "Данный код импортирует модуль re для работы с регулярными выражениями.\n",
        "Создает пустой словарь d.\n",
        "Открывает файл ‘input.txt’ для чтения с указанием кодировки ‘utf8’.\n",
        "Проходит по каждой строке в файле, а именно:\n",
        "Удаляет определенные знаки препинания (точки, запятые, кавычки, тире, вопросительные и восклицательные знаки, двоеточия и точки с запятой) из строки.\n",
        "Удаляет пробелы в начале и конце строки.\n",
        "Преобразует все буквы в строке в нижний регистр.\n",
        "Разделяет строку на слова по пробелам.\n",
        "Для каждого слова в списке слов проверяет, есть ли это слово в словаре d:\n",
        "Если слово уже есть в словаре, увеличивает его счетчик на 1.\n",
        "Если слова нет в словаре, добавляет его в словарь со значением 1.\n",
        "В конце выводит словарь d."
      ],
      "metadata": {
        "id": "aBGV_vQYt2O2"
      }
    },
    {
      "cell_type": "code",
      "source": [
        "{‘to’: 2, ‘be’: 2, ‘or’: 1 , ‘not’: 1, ‘that’: 1, ‘is’: 1, ‘the’: 1, ‘question’: 1}"
      ],
      "metadata": {
        "id": "4q6BMQ1xuJd_"
      },
      "execution_count": null,
      "outputs": []
    }
  ]
}