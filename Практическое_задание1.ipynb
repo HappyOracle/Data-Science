{
  "nbformat": 4,
  "nbformat_minor": 0,
  "metadata": {
    "colab": {
      "provenance": []
    },
    "kernelspec": {
      "name": "python3",
      "display_name": "Python 3"
    },
    "language_info": {
      "name": "python"
    }
  },
  "cells": [
    {
      "cell_type": "code",
      "source": [
        "import numpy\n",
        "import pandas\n",
        "import matplotlib\n",
        "import seaborn\n",
        "\n",
        "def isPointInSquare(x:float, y:float, v:float)->bool:\n",
        "    return (v**2 >= x**2) and (v**2 >= y**2)\n",
        "\n",
        "x, y = float(input(\"x = \")), float(input(\"y = \"))\n",
        "\n",
        "print(\"YES\" if isPointInSquare(x, y, 1) else \"NO\")\n",
        "\n",
        "# 1-2 Задание\n",
        "\n"
      ],
      "metadata": {
        "id": "xRq1myIHb5Jq"
      },
      "execution_count": null,
      "outputs": []
    },
    {
      "cell_type": "markdown",
      "source": [
        "В этой части кода описывается: Находится ли точка внутри квадрата с вершинами в точках (±v, ±v). Функция isPointInSquare(x:float, y:float, v:float)->bool принимает координаты точки (x, y) и длину половины стороны квадрата (v). Она возвращает True, если точка находится внутри квадрата, и False в противном случае.\n",
        "\n",
        "Пользователь вводит координаты точки (x, y). Если точка находится внутри квадрата с вершинами в точках (±1, ±1), программа выводит “YES”. В противном случае программа выводит “NO”.\n",
        "\n",
        "\n",
        "x = 0, y = 1\n",
        "YES\n",
        "\n"
      ],
      "metadata": {
        "id": "fswP1IZhPnph"
      }
    },
    {
      "cell_type": "code",
      "source": [
        "BBlist = input()\n",
        "BBlist = BBlist.replace(',', ' ').replace('.', ' ')\n",
        "numbers = list(map(int, BBlist.split()))\n",
        "newList = []\n",
        "for i in range(len(numbers)):\n",
        "  if numbers[i] % 2 == 0:\n",
        "    newList.append(numbers[i])\n",
        "print(' '.join(map(str, newList)))\n",
        "\n",
        "# 3 Задание"
      ],
      "metadata": {
        "id": "6tOwlM9ld4x7"
      },
      "execution_count": null,
      "outputs": []
    },
    {
      "cell_type": "markdown",
      "source": [
        "Здесь принимает строку чисел, разделенных запятыми или точками, и выводит все четные числа из этой строки. Вот как это работает:\n",
        "\n",
        "Сначала я ввожу строку чисел, разделенных запятыми или точками.\n",
        "Затем код заменяет все запятые и точки на пробелы, чтобы все числа были разделены пробелами.\n",
        "Затем код преобразует строку в список чисел.\n",
        "Затем код проходит по списку чисел и добавляет все четные числа в новый список.\n",
        "Наконец, код выводит все четные числа из нового списка, разделенные пробелами.\n",
        "Таким образом, этот код фильтрует все четные числа из введенной пользователем строки чисел.\n",
        "\n",
        "Входная строка:\n",
        "1  2,3, 4 5, 6, 7 8\n",
        "выходной список:\n",
        "[2, 4, 6, 8].\n"
      ],
      "metadata": {
        "id": "JKl_DCM3TPPA"
      }
    },
    {
      "cell_type": "code",
      "source": [
        "A = int(input())\n",
        "B = int(input())\n",
        "if A < B:\n",
        "  for i in range(A, B+1):\n",
        "    print(i)\n",
        "else:\n",
        "  for i in range(A, B-1, -1):\n",
        "    print(i)\n",
        "# 4 Задание"
      ],
      "metadata": {
        "id": "sO8yqi7Jh7Km"
      },
      "execution_count": null,
      "outputs": []
    },
    {
      "cell_type": "markdown",
      "source": [
        "Этот код принимает два целых числа в качестве ввода от пользователя и выводит все числа между ними включительно. Если первое число меньше второго, то числа выводятся в возрастающем порядке. Если первое число больше второго, то числа выводятся в убывающем порядке\n",
        "\n",
        "Если A = 6, B = 4\n",
        "выходной список:\n",
        "[6, 5, 4].\n"
      ],
      "metadata": {
        "id": "sFLwZVouU3II"
      }
    }
  ]
}